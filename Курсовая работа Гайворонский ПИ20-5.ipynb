{
 "cells": [
  {
   "cell_type": "code",
   "execution_count": 1,
   "metadata": {},
   "outputs": [
    {
     "name": "stderr",
     "output_type": "stream",
     "text": [
      "C:\\Users\\User\\AppData\\Roaming\\Python\\Python38\\site-packages\\pandas\\core\\computation\\expressions.py:20: UserWarning: Pandas requires version '2.7.3' or newer of 'numexpr' (version '2.7.1' currently installed).\n",
      "  from pandas.core.computation.check import NUMEXPR_INSTALLED\n"
     ]
    }
   ],
   "source": [
    "import pandas as pd\n",
    "import matplotlib.pyplot as plt\n",
    "import seaborn as sns\n",
    "import torch\n",
    "import torch.nn as nn\n",
    "from datetime import datetime\n",
    "from sklearn.model_selection import train_test_split\n",
    "from sklearn.preprocessing import MinMaxScaler\n",
    "import numpy as np\n",
    "from torch.utils.data import TensorDataset, DataLoader\n",
    "import torch.optim as optim\n",
    "from sklearn.model_selection import GridSearchCV\n",
    "from sklearn.linear_model import LinearRegression\n",
    "from sklearn.ensemble import RandomForestRegressor, GradientBoostingRegressor\n",
    "from sklearn.metrics import mean_squared_error, mean_absolute_error, median_absolute_error"
   ]
  },
  {
   "cell_type": "markdown",
   "metadata": {},
   "source": [
    "Загружаем файл."
   ]
  },
  {
   "cell_type": "code",
   "execution_count": 2,
   "metadata": {},
   "outputs": [
    {
     "data": {
      "text/html": [
       "<div>\n",
       "<style scoped>\n",
       "    .dataframe tbody tr th:only-of-type {\n",
       "        vertical-align: middle;\n",
       "    }\n",
       "\n",
       "    .dataframe tbody tr th {\n",
       "        vertical-align: top;\n",
       "    }\n",
       "\n",
       "    .dataframe thead th {\n",
       "        text-align: right;\n",
       "    }\n",
       "</style>\n",
       "<table border=\"1\" class=\"dataframe\">\n",
       "  <thead>\n",
       "    <tr style=\"text-align: right;\">\n",
       "      <th></th>\n",
       "      <th>SNo</th>\n",
       "      <th>Name</th>\n",
       "      <th>Symbol</th>\n",
       "      <th>Date</th>\n",
       "      <th>High</th>\n",
       "      <th>Low</th>\n",
       "      <th>Open</th>\n",
       "      <th>Close</th>\n",
       "      <th>Volume</th>\n",
       "      <th>Marketcap</th>\n",
       "    </tr>\n",
       "  </thead>\n",
       "  <tbody>\n",
       "    <tr>\n",
       "      <th>0</th>\n",
       "      <td>1</td>\n",
       "      <td>Bitcoin</td>\n",
       "      <td>BTC</td>\n",
       "      <td>2013-04-29 23:59:59</td>\n",
       "      <td>147.488007</td>\n",
       "      <td>134.000000</td>\n",
       "      <td>134.444000</td>\n",
       "      <td>144.539993</td>\n",
       "      <td>0.000000e+00</td>\n",
       "      <td>1.603769e+09</td>\n",
       "    </tr>\n",
       "    <tr>\n",
       "      <th>1</th>\n",
       "      <td>2</td>\n",
       "      <td>Bitcoin</td>\n",
       "      <td>BTC</td>\n",
       "      <td>2013-04-30 23:59:59</td>\n",
       "      <td>146.929993</td>\n",
       "      <td>134.050003</td>\n",
       "      <td>144.000000</td>\n",
       "      <td>139.000000</td>\n",
       "      <td>0.000000e+00</td>\n",
       "      <td>1.542813e+09</td>\n",
       "    </tr>\n",
       "    <tr>\n",
       "      <th>2</th>\n",
       "      <td>3</td>\n",
       "      <td>Bitcoin</td>\n",
       "      <td>BTC</td>\n",
       "      <td>2013-05-01 23:59:59</td>\n",
       "      <td>139.889999</td>\n",
       "      <td>107.720001</td>\n",
       "      <td>139.000000</td>\n",
       "      <td>116.989998</td>\n",
       "      <td>0.000000e+00</td>\n",
       "      <td>1.298955e+09</td>\n",
       "    </tr>\n",
       "    <tr>\n",
       "      <th>3</th>\n",
       "      <td>4</td>\n",
       "      <td>Bitcoin</td>\n",
       "      <td>BTC</td>\n",
       "      <td>2013-05-02 23:59:59</td>\n",
       "      <td>125.599998</td>\n",
       "      <td>92.281898</td>\n",
       "      <td>116.379997</td>\n",
       "      <td>105.209999</td>\n",
       "      <td>0.000000e+00</td>\n",
       "      <td>1.168517e+09</td>\n",
       "    </tr>\n",
       "    <tr>\n",
       "      <th>4</th>\n",
       "      <td>5</td>\n",
       "      <td>Bitcoin</td>\n",
       "      <td>BTC</td>\n",
       "      <td>2013-05-03 23:59:59</td>\n",
       "      <td>108.127998</td>\n",
       "      <td>79.099998</td>\n",
       "      <td>106.250000</td>\n",
       "      <td>97.750000</td>\n",
       "      <td>0.000000e+00</td>\n",
       "      <td>1.085995e+09</td>\n",
       "    </tr>\n",
       "    <tr>\n",
       "      <th>...</th>\n",
       "      <td>...</td>\n",
       "      <td>...</td>\n",
       "      <td>...</td>\n",
       "      <td>...</td>\n",
       "      <td>...</td>\n",
       "      <td>...</td>\n",
       "      <td>...</td>\n",
       "      <td>...</td>\n",
       "      <td>...</td>\n",
       "      <td>...</td>\n",
       "    </tr>\n",
       "    <tr>\n",
       "      <th>2986</th>\n",
       "      <td>2987</td>\n",
       "      <td>Bitcoin</td>\n",
       "      <td>BTC</td>\n",
       "      <td>2021-07-02 23:59:59</td>\n",
       "      <td>33939.588699</td>\n",
       "      <td>32770.680780</td>\n",
       "      <td>33549.600177</td>\n",
       "      <td>33897.048590</td>\n",
       "      <td>3.872897e+10</td>\n",
       "      <td>6.354508e+11</td>\n",
       "    </tr>\n",
       "    <tr>\n",
       "      <th>2987</th>\n",
       "      <td>2988</td>\n",
       "      <td>Bitcoin</td>\n",
       "      <td>BTC</td>\n",
       "      <td>2021-07-03 23:59:59</td>\n",
       "      <td>34909.259899</td>\n",
       "      <td>33402.696536</td>\n",
       "      <td>33854.421362</td>\n",
       "      <td>34668.548402</td>\n",
       "      <td>2.438396e+10</td>\n",
       "      <td>6.499397e+11</td>\n",
       "    </tr>\n",
       "    <tr>\n",
       "      <th>2988</th>\n",
       "      <td>2989</td>\n",
       "      <td>Bitcoin</td>\n",
       "      <td>BTC</td>\n",
       "      <td>2021-07-04 23:59:59</td>\n",
       "      <td>35937.567147</td>\n",
       "      <td>34396.477458</td>\n",
       "      <td>34665.564866</td>\n",
       "      <td>35287.779766</td>\n",
       "      <td>2.492431e+10</td>\n",
       "      <td>6.615748e+11</td>\n",
       "    </tr>\n",
       "    <tr>\n",
       "      <th>2989</th>\n",
       "      <td>2990</td>\n",
       "      <td>Bitcoin</td>\n",
       "      <td>BTC</td>\n",
       "      <td>2021-07-05 23:59:59</td>\n",
       "      <td>35284.344430</td>\n",
       "      <td>33213.661034</td>\n",
       "      <td>35284.344430</td>\n",
       "      <td>33746.002456</td>\n",
       "      <td>2.672155e+10</td>\n",
       "      <td>6.326962e+11</td>\n",
       "    </tr>\n",
       "    <tr>\n",
       "      <th>2990</th>\n",
       "      <td>2991</td>\n",
       "      <td>Bitcoin</td>\n",
       "      <td>BTC</td>\n",
       "      <td>2021-07-06 23:59:59</td>\n",
       "      <td>35038.536363</td>\n",
       "      <td>33599.916169</td>\n",
       "      <td>33723.509655</td>\n",
       "      <td>34235.193451</td>\n",
       "      <td>2.650126e+10</td>\n",
       "      <td>6.418992e+11</td>\n",
       "    </tr>\n",
       "  </tbody>\n",
       "</table>\n",
       "<p>2991 rows × 10 columns</p>\n",
       "</div>"
      ],
      "text/plain": [
       "       SNo     Name Symbol                 Date          High           Low  \\\n",
       "0        1  Bitcoin    BTC  2013-04-29 23:59:59    147.488007    134.000000   \n",
       "1        2  Bitcoin    BTC  2013-04-30 23:59:59    146.929993    134.050003   \n",
       "2        3  Bitcoin    BTC  2013-05-01 23:59:59    139.889999    107.720001   \n",
       "3        4  Bitcoin    BTC  2013-05-02 23:59:59    125.599998     92.281898   \n",
       "4        5  Bitcoin    BTC  2013-05-03 23:59:59    108.127998     79.099998   \n",
       "...    ...      ...    ...                  ...           ...           ...   \n",
       "2986  2987  Bitcoin    BTC  2021-07-02 23:59:59  33939.588699  32770.680780   \n",
       "2987  2988  Bitcoin    BTC  2021-07-03 23:59:59  34909.259899  33402.696536   \n",
       "2988  2989  Bitcoin    BTC  2021-07-04 23:59:59  35937.567147  34396.477458   \n",
       "2989  2990  Bitcoin    BTC  2021-07-05 23:59:59  35284.344430  33213.661034   \n",
       "2990  2991  Bitcoin    BTC  2021-07-06 23:59:59  35038.536363  33599.916169   \n",
       "\n",
       "              Open         Close        Volume     Marketcap  \n",
       "0       134.444000    144.539993  0.000000e+00  1.603769e+09  \n",
       "1       144.000000    139.000000  0.000000e+00  1.542813e+09  \n",
       "2       139.000000    116.989998  0.000000e+00  1.298955e+09  \n",
       "3       116.379997    105.209999  0.000000e+00  1.168517e+09  \n",
       "4       106.250000     97.750000  0.000000e+00  1.085995e+09  \n",
       "...            ...           ...           ...           ...  \n",
       "2986  33549.600177  33897.048590  3.872897e+10  6.354508e+11  \n",
       "2987  33854.421362  34668.548402  2.438396e+10  6.499397e+11  \n",
       "2988  34665.564866  35287.779766  2.492431e+10  6.615748e+11  \n",
       "2989  35284.344430  33746.002456  2.672155e+10  6.326962e+11  \n",
       "2990  33723.509655  34235.193451  2.650126e+10  6.418992e+11  \n",
       "\n",
       "[2991 rows x 10 columns]"
      ]
     },
     "execution_count": 2,
     "metadata": {},
     "output_type": "execute_result"
    }
   ],
   "source": [
    "df = pd.read_csv('coin_Bitcoin.csv')\n",
    "df"
   ]
  },
  {
   "cell_type": "markdown",
   "metadata": {},
   "source": [
    "Как видим, в датасете достаточное количество информации. Судя по тому, как менялся marketcap - Биткоин всё сильнее забирает рынок."
   ]
  },
  {
   "cell_type": "code",
   "execution_count": 3,
   "metadata": {},
   "outputs": [
    {
     "data": {
      "text/html": [
       "<div>\n",
       "<style scoped>\n",
       "    .dataframe tbody tr th:only-of-type {\n",
       "        vertical-align: middle;\n",
       "    }\n",
       "\n",
       "    .dataframe tbody tr th {\n",
       "        vertical-align: top;\n",
       "    }\n",
       "\n",
       "    .dataframe thead th {\n",
       "        text-align: right;\n",
       "    }\n",
       "</style>\n",
       "<table border=\"1\" class=\"dataframe\">\n",
       "  <thead>\n",
       "    <tr style=\"text-align: right;\">\n",
       "      <th></th>\n",
       "      <th>Name</th>\n",
       "      <th>Symbol</th>\n",
       "      <th>Date</th>\n",
       "      <th>High</th>\n",
       "      <th>Low</th>\n",
       "      <th>Open</th>\n",
       "      <th>Close</th>\n",
       "      <th>Volume</th>\n",
       "      <th>Marketcap</th>\n",
       "    </tr>\n",
       "  </thead>\n",
       "  <tbody>\n",
       "    <tr>\n",
       "      <th>0</th>\n",
       "      <td>Bitcoin</td>\n",
       "      <td>BTC</td>\n",
       "      <td>2013-04-29 23:59:59</td>\n",
       "      <td>147.488007</td>\n",
       "      <td>134.000000</td>\n",
       "      <td>134.444000</td>\n",
       "      <td>144.539993</td>\n",
       "      <td>0.000000e+00</td>\n",
       "      <td>1.603769e+09</td>\n",
       "    </tr>\n",
       "    <tr>\n",
       "      <th>1</th>\n",
       "      <td>Bitcoin</td>\n",
       "      <td>BTC</td>\n",
       "      <td>2013-04-30 23:59:59</td>\n",
       "      <td>146.929993</td>\n",
       "      <td>134.050003</td>\n",
       "      <td>144.000000</td>\n",
       "      <td>139.000000</td>\n",
       "      <td>0.000000e+00</td>\n",
       "      <td>1.542813e+09</td>\n",
       "    </tr>\n",
       "    <tr>\n",
       "      <th>2</th>\n",
       "      <td>Bitcoin</td>\n",
       "      <td>BTC</td>\n",
       "      <td>2013-05-01 23:59:59</td>\n",
       "      <td>139.889999</td>\n",
       "      <td>107.720001</td>\n",
       "      <td>139.000000</td>\n",
       "      <td>116.989998</td>\n",
       "      <td>0.000000e+00</td>\n",
       "      <td>1.298955e+09</td>\n",
       "    </tr>\n",
       "    <tr>\n",
       "      <th>3</th>\n",
       "      <td>Bitcoin</td>\n",
       "      <td>BTC</td>\n",
       "      <td>2013-05-02 23:59:59</td>\n",
       "      <td>125.599998</td>\n",
       "      <td>92.281898</td>\n",
       "      <td>116.379997</td>\n",
       "      <td>105.209999</td>\n",
       "      <td>0.000000e+00</td>\n",
       "      <td>1.168517e+09</td>\n",
       "    </tr>\n",
       "    <tr>\n",
       "      <th>4</th>\n",
       "      <td>Bitcoin</td>\n",
       "      <td>BTC</td>\n",
       "      <td>2013-05-03 23:59:59</td>\n",
       "      <td>108.127998</td>\n",
       "      <td>79.099998</td>\n",
       "      <td>106.250000</td>\n",
       "      <td>97.750000</td>\n",
       "      <td>0.000000e+00</td>\n",
       "      <td>1.085995e+09</td>\n",
       "    </tr>\n",
       "    <tr>\n",
       "      <th>...</th>\n",
       "      <td>...</td>\n",
       "      <td>...</td>\n",
       "      <td>...</td>\n",
       "      <td>...</td>\n",
       "      <td>...</td>\n",
       "      <td>...</td>\n",
       "      <td>...</td>\n",
       "      <td>...</td>\n",
       "      <td>...</td>\n",
       "    </tr>\n",
       "    <tr>\n",
       "      <th>2986</th>\n",
       "      <td>Bitcoin</td>\n",
       "      <td>BTC</td>\n",
       "      <td>2021-07-02 23:59:59</td>\n",
       "      <td>33939.588699</td>\n",
       "      <td>32770.680780</td>\n",
       "      <td>33549.600177</td>\n",
       "      <td>33897.048590</td>\n",
       "      <td>3.872897e+10</td>\n",
       "      <td>6.354508e+11</td>\n",
       "    </tr>\n",
       "    <tr>\n",
       "      <th>2987</th>\n",
       "      <td>Bitcoin</td>\n",
       "      <td>BTC</td>\n",
       "      <td>2021-07-03 23:59:59</td>\n",
       "      <td>34909.259899</td>\n",
       "      <td>33402.696536</td>\n",
       "      <td>33854.421362</td>\n",
       "      <td>34668.548402</td>\n",
       "      <td>2.438396e+10</td>\n",
       "      <td>6.499397e+11</td>\n",
       "    </tr>\n",
       "    <tr>\n",
       "      <th>2988</th>\n",
       "      <td>Bitcoin</td>\n",
       "      <td>BTC</td>\n",
       "      <td>2021-07-04 23:59:59</td>\n",
       "      <td>35937.567147</td>\n",
       "      <td>34396.477458</td>\n",
       "      <td>34665.564866</td>\n",
       "      <td>35287.779766</td>\n",
       "      <td>2.492431e+10</td>\n",
       "      <td>6.615748e+11</td>\n",
       "    </tr>\n",
       "    <tr>\n",
       "      <th>2989</th>\n",
       "      <td>Bitcoin</td>\n",
       "      <td>BTC</td>\n",
       "      <td>2021-07-05 23:59:59</td>\n",
       "      <td>35284.344430</td>\n",
       "      <td>33213.661034</td>\n",
       "      <td>35284.344430</td>\n",
       "      <td>33746.002456</td>\n",
       "      <td>2.672155e+10</td>\n",
       "      <td>6.326962e+11</td>\n",
       "    </tr>\n",
       "    <tr>\n",
       "      <th>2990</th>\n",
       "      <td>Bitcoin</td>\n",
       "      <td>BTC</td>\n",
       "      <td>2021-07-06 23:59:59</td>\n",
       "      <td>35038.536363</td>\n",
       "      <td>33599.916169</td>\n",
       "      <td>33723.509655</td>\n",
       "      <td>34235.193451</td>\n",
       "      <td>2.650126e+10</td>\n",
       "      <td>6.418992e+11</td>\n",
       "    </tr>\n",
       "  </tbody>\n",
       "</table>\n",
       "<p>2991 rows × 9 columns</p>\n",
       "</div>"
      ],
      "text/plain": [
       "         Name Symbol                 Date          High           Low  \\\n",
       "0     Bitcoin    BTC  2013-04-29 23:59:59    147.488007    134.000000   \n",
       "1     Bitcoin    BTC  2013-04-30 23:59:59    146.929993    134.050003   \n",
       "2     Bitcoin    BTC  2013-05-01 23:59:59    139.889999    107.720001   \n",
       "3     Bitcoin    BTC  2013-05-02 23:59:59    125.599998     92.281898   \n",
       "4     Bitcoin    BTC  2013-05-03 23:59:59    108.127998     79.099998   \n",
       "...       ...    ...                  ...           ...           ...   \n",
       "2986  Bitcoin    BTC  2021-07-02 23:59:59  33939.588699  32770.680780   \n",
       "2987  Bitcoin    BTC  2021-07-03 23:59:59  34909.259899  33402.696536   \n",
       "2988  Bitcoin    BTC  2021-07-04 23:59:59  35937.567147  34396.477458   \n",
       "2989  Bitcoin    BTC  2021-07-05 23:59:59  35284.344430  33213.661034   \n",
       "2990  Bitcoin    BTC  2021-07-06 23:59:59  35038.536363  33599.916169   \n",
       "\n",
       "              Open         Close        Volume     Marketcap  \n",
       "0       134.444000    144.539993  0.000000e+00  1.603769e+09  \n",
       "1       144.000000    139.000000  0.000000e+00  1.542813e+09  \n",
       "2       139.000000    116.989998  0.000000e+00  1.298955e+09  \n",
       "3       116.379997    105.209999  0.000000e+00  1.168517e+09  \n",
       "4       106.250000     97.750000  0.000000e+00  1.085995e+09  \n",
       "...            ...           ...           ...           ...  \n",
       "2986  33549.600177  33897.048590  3.872897e+10  6.354508e+11  \n",
       "2987  33854.421362  34668.548402  2.438396e+10  6.499397e+11  \n",
       "2988  34665.564866  35287.779766  2.492431e+10  6.615748e+11  \n",
       "2989  35284.344430  33746.002456  2.672155e+10  6.326962e+11  \n",
       "2990  33723.509655  34235.193451  2.650126e+10  6.418992e+11  \n",
       "\n",
       "[2991 rows x 9 columns]"
      ]
     },
     "execution_count": 3,
     "metadata": {},
     "output_type": "execute_result"
    }
   ],
   "source": [
    "df = df.drop(columns='SNo')\n",
    "df"
   ]
  },
  {
   "cell_type": "markdown",
   "metadata": {},
   "source": [
    "Заранее выбрасываем одну лишнюю колонку, чтобы она не портила матрицу коррелляции."
   ]
  },
  {
   "cell_type": "code",
   "execution_count": 4,
   "metadata": {},
   "outputs": [
    {
     "data": {
      "text/html": [
       "<div>\n",
       "<style scoped>\n",
       "    .dataframe tbody tr th:only-of-type {\n",
       "        vertical-align: middle;\n",
       "    }\n",
       "\n",
       "    .dataframe tbody tr th {\n",
       "        vertical-align: top;\n",
       "    }\n",
       "\n",
       "    .dataframe thead th {\n",
       "        text-align: right;\n",
       "    }\n",
       "</style>\n",
       "<table border=\"1\" class=\"dataframe\">\n",
       "  <thead>\n",
       "    <tr style=\"text-align: right;\">\n",
       "      <th></th>\n",
       "      <th>High</th>\n",
       "      <th>Low</th>\n",
       "      <th>Open</th>\n",
       "      <th>Close</th>\n",
       "      <th>Volume</th>\n",
       "      <th>Marketcap</th>\n",
       "    </tr>\n",
       "  </thead>\n",
       "  <tbody>\n",
       "    <tr>\n",
       "      <th>count</th>\n",
       "      <td>2991.000000</td>\n",
       "      <td>2991.000000</td>\n",
       "      <td>2991.000000</td>\n",
       "      <td>2991.000000</td>\n",
       "      <td>2.991000e+03</td>\n",
       "      <td>2.991000e+03</td>\n",
       "    </tr>\n",
       "    <tr>\n",
       "      <th>mean</th>\n",
       "      <td>6893.326038</td>\n",
       "      <td>6486.009539</td>\n",
       "      <td>6700.146240</td>\n",
       "      <td>6711.290443</td>\n",
       "      <td>1.090633e+10</td>\n",
       "      <td>1.208761e+11</td>\n",
       "    </tr>\n",
       "    <tr>\n",
       "      <th>std</th>\n",
       "      <td>11642.832456</td>\n",
       "      <td>10869.032130</td>\n",
       "      <td>11288.043736</td>\n",
       "      <td>11298.141921</td>\n",
       "      <td>1.888895e+10</td>\n",
       "      <td>2.109438e+11</td>\n",
       "    </tr>\n",
       "    <tr>\n",
       "      <th>min</th>\n",
       "      <td>74.561096</td>\n",
       "      <td>65.526001</td>\n",
       "      <td>68.504997</td>\n",
       "      <td>68.431000</td>\n",
       "      <td>0.000000e+00</td>\n",
       "      <td>7.784112e+08</td>\n",
       "    </tr>\n",
       "    <tr>\n",
       "      <th>25%</th>\n",
       "      <td>436.179001</td>\n",
       "      <td>422.879486</td>\n",
       "      <td>430.445496</td>\n",
       "      <td>430.569489</td>\n",
       "      <td>3.036725e+07</td>\n",
       "      <td>6.305579e+09</td>\n",
       "    </tr>\n",
       "    <tr>\n",
       "      <th>50%</th>\n",
       "      <td>2387.610107</td>\n",
       "      <td>2178.500000</td>\n",
       "      <td>2269.889893</td>\n",
       "      <td>2286.409912</td>\n",
       "      <td>9.460360e+08</td>\n",
       "      <td>3.741503e+10</td>\n",
       "    </tr>\n",
       "    <tr>\n",
       "      <th>75%</th>\n",
       "      <td>8733.926948</td>\n",
       "      <td>8289.800459</td>\n",
       "      <td>8569.656494</td>\n",
       "      <td>8576.238715</td>\n",
       "      <td>1.592015e+10</td>\n",
       "      <td>1.499957e+11</td>\n",
       "    </tr>\n",
       "    <tr>\n",
       "      <th>max</th>\n",
       "      <td>64863.098908</td>\n",
       "      <td>62208.964366</td>\n",
       "      <td>63523.754869</td>\n",
       "      <td>63503.457930</td>\n",
       "      <td>3.509679e+11</td>\n",
       "      <td>1.186364e+12</td>\n",
       "    </tr>\n",
       "  </tbody>\n",
       "</table>\n",
       "</div>"
      ],
      "text/plain": [
       "               High           Low          Open         Close        Volume  \\\n",
       "count   2991.000000   2991.000000   2991.000000   2991.000000  2.991000e+03   \n",
       "mean    6893.326038   6486.009539   6700.146240   6711.290443  1.090633e+10   \n",
       "std    11642.832456  10869.032130  11288.043736  11298.141921  1.888895e+10   \n",
       "min       74.561096     65.526001     68.504997     68.431000  0.000000e+00   \n",
       "25%      436.179001    422.879486    430.445496    430.569489  3.036725e+07   \n",
       "50%     2387.610107   2178.500000   2269.889893   2286.409912  9.460360e+08   \n",
       "75%     8733.926948   8289.800459   8569.656494   8576.238715  1.592015e+10   \n",
       "max    64863.098908  62208.964366  63523.754869  63503.457930  3.509679e+11   \n",
       "\n",
       "          Marketcap  \n",
       "count  2.991000e+03  \n",
       "mean   1.208761e+11  \n",
       "std    2.109438e+11  \n",
       "min    7.784112e+08  \n",
       "25%    6.305579e+09  \n",
       "50%    3.741503e+10  \n",
       "75%    1.499957e+11  \n",
       "max    1.186364e+12  "
      ]
     },
     "execution_count": 4,
     "metadata": {},
     "output_type": "execute_result"
    }
   ],
   "source": [
    "df.describe()"
   ]
  },
  {
   "cell_type": "markdown",
   "metadata": {},
   "source": [
    "Описательная статистика датасета. Видим. что значительную разницы между значениями между 2 и 3 квартилем, и огромную между 3 и максимальным значением. Обычно такие выбросы очищаются, но, так как мы работаем с криптовалютой (логика та же, что и с акциями), то удалять такие значения не имеет смысла, нам важно видеть все скачки цены."
   ]
  },
  {
   "cell_type": "code",
   "execution_count": 5,
   "metadata": {},
   "outputs": [
    {
     "name": "stdout",
     "output_type": "stream",
     "text": [
      "<class 'pandas.core.frame.DataFrame'>\n",
      "RangeIndex: 2991 entries, 0 to 2990\n",
      "Data columns (total 9 columns):\n",
      " #   Column     Non-Null Count  Dtype  \n",
      "---  ------     --------------  -----  \n",
      " 0   Name       2991 non-null   object \n",
      " 1   Symbol     2991 non-null   object \n",
      " 2   Date       2991 non-null   object \n",
      " 3   High       2991 non-null   float64\n",
      " 4   Low        2991 non-null   float64\n",
      " 5   Open       2991 non-null   float64\n",
      " 6   Close      2991 non-null   float64\n",
      " 7   Volume     2991 non-null   float64\n",
      " 8   Marketcap  2991 non-null   float64\n",
      "dtypes: float64(6), object(3)\n",
      "memory usage: 210.4+ KB\n"
     ]
    }
   ],
   "source": [
    "df.info()"
   ]
  },
  {
   "cell_type": "markdown",
   "metadata": {},
   "source": [
    "С типами проблем нет."
   ]
  },
  {
   "cell_type": "code",
   "execution_count": 6,
   "metadata": {},
   "outputs": [
    {
     "data": {
      "text/plain": [
       "Name         0\n",
       "Symbol       0\n",
       "Date         0\n",
       "High         0\n",
       "Low          0\n",
       "Open         0\n",
       "Close        0\n",
       "Volume       0\n",
       "Marketcap    0\n",
       "dtype: int64"
      ]
     },
     "execution_count": 6,
     "metadata": {},
     "output_type": "execute_result"
    }
   ],
   "source": [
    "df.isna().sum()"
   ]
  },
  {
   "cell_type": "markdown",
   "metadata": {},
   "source": [
    "Пропущенных значений нет."
   ]
  },
  {
   "cell_type": "code",
   "execution_count": 7,
   "metadata": {},
   "outputs": [
    {
     "data": {
      "text/plain": [
       "<Axes: xlabel='Date', ylabel='Close'>"
      ]
     },
     "execution_count": 7,
     "metadata": {},
     "output_type": "execute_result"
    },
    {
     "data": {
      "image/png": "[encoded data removed]",
      "text/plain": [
       "<Figure size 432x288 with 1 Axes>"
      ]
     },
     "metadata": {
      "needs_background": "light"
     },
     "output_type": "display_data"
    }
   ],
   "source": [
    "sns.lineplot(data=df, x=df.Date, y=df.Close, sizes=(80,60))"
   ]
  },
  {
   "cell_type": "markdown",
   "metadata": {},
   "source": [
    "График изменения цены."
   ]
  },
  {
   "cell_type": "code",
   "execution_count": 8,
   "metadata": {},
   "outputs": [
    {
     "name": "stderr",
     "output_type": "stream",
     "text": [
      "<ipython-input-8-215c75a5c9aa>:2: FutureWarning: The default value of numeric_only in DataFrame.corr is deprecated. In a future version, it will default to False. Select only valid columns or specify the value of numeric_only to silence this warning.\n",
      "  plt.matshow(df.corr(), fignum=f.number)\n"
     ]
    },
    {
     "data": {
      "image/png": "[encoded data removed]",
      "text/plain": [
       "<Figure size 1368x1080 with 2 Axes>"
      ]
     },
     "metadata": {
      "needs_background": "light"
     },
     "output_type": "display_data"
    }
   ],
   "source": [
    "f = plt.figure(figsize=(19, 15))\n",
    "plt.matshow(df.corr(), fignum=f.number)\n",
    "plt.xticks(range(df.select_dtypes(['number']).shape[1]), df.select_dtypes(['number']).columns, fontsize=14, rotation=45)\n",
    "plt.yticks(range(df.select_dtypes(['number']).shape[1]), df.select_dtypes(['number']).columns, fontsize=14)\n",
    "cb = plt.colorbar()\n",
    "cb.ax.tick_params(labelsize=14)\n",
    "plt.title('Correlation Matrix', fontsize=16);"
   ]
  },
  {
   "cell_type": "markdown",
   "metadata": {},
   "source": [
    "Видим насколько зависят друг от друга столбцы датасета."
   ]
  },
  {
   "cell_type": "code",
   "execution_count": 9,
   "metadata": {},
   "outputs": [
    {
     "data": {
      "text/plain": [
       "<matplotlib.collections.PathCollection at 0x212cd160>"
      ]
     },
     "execution_count": 9,
     "metadata": {},
     "output_type": "execute_result"
    },
    {
     "data": {
      "image/png": "[encoded data removed]",
      "text/plain": [
       "<Figure size 432x288 with 1 Axes>"
      ]
     },
     "metadata": {
      "needs_background": "light"
     },
     "output_type": "display_data"
    }
   ],
   "source": [
    "plt.scatter(x=df['Date'],y=df['Close'])\n"
   ]
  },
  {
   "cell_type": "code",
   "execution_count": 10,
   "metadata": {},
   "outputs": [
    {
     "data": {
      "text/plain": [
       "<Axes: xlabel='Volume', ylabel='Density'>"
      ]
     },
     "execution_count": 10,
     "metadata": {},
     "output_type": "execute_result"
    },
    {
     "data": {
      "image/png": "[encoded data removed]",
      "text/plain": [
       "<Figure size 432x288 with 1 Axes>"
      ]
     },
     "metadata": {
      "needs_background": "light"
     },
     "output_type": "display_data"
    }
   ],
   "source": [
    "sns.kdeplot(df['Volume'])"
   ]
  },
  {
   "cell_type": "markdown",
   "metadata": {},
   "source": [
    "График распределения наблюдений в наборе данных. Как видим, большинство значений стремится к нулю. Проверим на гистограмме."
   ]
  },
  {
   "cell_type": "code",
   "execution_count": 11,
   "metadata": {},
   "outputs": [
    {
     "data": {
      "text/plain": [
       "<Axes: xlabel='Volume', ylabel='Count'>"
      ]
     },
     "execution_count": 11,
     "metadata": {},
     "output_type": "execute_result"
    },
    {
     "data": {
      "image/png": "[encoded data removed]",
      "text/plain": [
       "<Figure size 432x288 with 1 Axes>"
      ]
     },
     "metadata": {
      "needs_background": "light"
     },
     "output_type": "display_data"
    }
   ],
   "source": [
    "sns.histplot(df['Volume'])"
   ]
  },
  {
   "cell_type": "code",
   "execution_count": null,
   "metadata": {},
   "outputs": [],
   "source": []
  },
  {
   "cell_type": "code",
   "execution_count": 12,
   "metadata": {},
   "outputs": [],
   "source": [
    "device = torch.device('cuda' if torch.cuda.is_available() else 'cpu')\n",
    "\n",
    "# Задаем гиперпараметры модели\n",
    "input_size = 1\n",
    "hidden_size = 32\n",
    "num_layers = 2\n",
    "output_size = 1\n",
    "seq_length = 30 # длина входной последовательности (количество дней для предсказания)\n",
    "\n",
    "# Создаем LSTM модель\n",
    "class LSTM(nn.Module):\n",
    "    def __init__(self, input_size, hidden_size, num_layers, output_size):\n",
    "        super(LSTM, self).__init__()\n",
    "        self.hidden_size = hidden_size\n",
    "        self.num_layers = num_layers\n",
    "        self.lstm = nn.LSTM(input_size, hidden_size, num_layers, batch_first=True)\n",
    "        self.fc = nn.Linear(hidden_size, output_size)\n",
    "\n",
    "    def forward(self, x):\n",
    "        h0 = torch.zeros(self.num_layers, x.size(0), self.hidden_size).to(device)\n",
    "        c0 = torch.zeros(self.num_layers, x.size(0), self.hidden_size).to(device)\n",
    "\n",
    "        out, (h_n, c_n) = self.lstm(x, (h0, c0))\n",
    "\n",
    "        out = self.fc(out[:, -1, :])\n",
    "\n",
    "        return out\n",
    "\n",
    "\n",
    "close_prices = df['Close'].values.reshape(-1, 1)\n",
    "\n",
    "# Нормализуем данные\n",
    "scaler = MinMaxScaler()\n",
    "close_prices = scaler.fit_transform(close_prices)\n",
    "\n",
    "df = df.drop(columns=['Name', 'Symbol', 'High', 'Low', 'Open', 'Volume', 'Marketcap'])\n",
    "\n",
    "# Создаем входные и выходные последовательности\n",
    "x = []\n",
    "y = []\n",
    "for i in range(len(close_prices) - seq_length - 1):\n",
    "    _x = close_prices[i:(i+seq_length)]\n",
    "    _y = close_prices[i+seq_length]\n",
    "    x.append(_x)\n",
    "    y.append(_y)\n",
    "x = np.array(x)\n",
    "y = np.array(y)\n",
    "\n",
    "# Разбиваем данные на тренировочную и тестовую выборки\n",
    "train_size = int(len(x) * 0.7)\n",
    "test_size = len(x) - train_size\n",
    "train_x, test_x = torch.from_numpy(x[0:train_size,:,:]).type(torch.Tensor), torch.from_numpy(x[train_size:len(x),:,:]).type(torch.Tensor)\n",
    "train_y, test_y = torch.from_numpy(y[0:train_size,:]).type(torch.Tensor), torch.from_numpy(y[train_size:len(y),:]).type(torch.Tensor)\n"
   ]
  },
  {
   "cell_type": "markdown",
   "metadata": {},
   "source": [
    "Делаем обёрточный класс, чтобы можно было использовать GridSearchCV"
   ]
  },
  {
   "cell_type": "code",
   "execution_count": 13,
   "metadata": {},
   "outputs": [],
   "source": [
    "from sklearn.base import BaseEstimator, RegressorMixin\n",
    "class LSTMWrapper(BaseEstimator, RegressorMixin):\n",
    "    def __init__(self, input_size=1, hidden_size=32, num_layers=2, output_size=1, learning_rate=0.001):\n",
    "        self.model = LSTM(input_size, hidden_size, num_layers, output_size)\n",
    "        self.loss_fn = nn.MSELoss()\n",
    "        self.optimizer = torch.optim.Adam(self.model.parameters(), lr=learning_rate)\n",
    "\n",
    "    def fit(self, X, y):\n",
    "        X = X.to(device)\n",
    "        y = y.to(device)\n",
    "        self.model.train()\n",
    "        for epoch in range(100):\n",
    "            self.optimizer.zero_grad()\n",
    "            output = self.model(X)\n",
    "            loss = self.loss_fn(output, y)\n",
    "            loss.backward()\n",
    "            self.optimizer.step()\n",
    "\n",
    "    def predict(self, X):\n",
    "        self.model.eval()\n",
    "        with torch.no_grad():\n",
    "            X = X.to(device)\n",
    "            output = self.model(X)\n",
    "            return output.cpu().numpy()\n",
    "\n",
    "    def score(self, X, y):\n",
    "        X = X.to(device)\n",
    "        y = y.to(device)\n",
    "        output = self.predict(X)\n",
    "        loss = self.loss_fn(torch.Tensor(output), y)\n",
    "        return -loss.item()\n",
    "\n",
    "    def get_params(self, deep=True):\n",
    "        return {'input_size': self.model.lstm.input_size,\n",
    "                'hidden_size': self.model.lstm.hidden_size,\n",
    "                'num_layers': self.model.lstm.num_layers,\n",
    "                'output_size': self.model.fc.out_features,\n",
    "                'learning_rate': self.optimizer.param_groups[0]['lr']}\n",
    "\n",
    "    def set_params(self, **parameters):\n",
    "        for parameter, value in parameters.items():\n",
    "            setattr(self, parameter, value)\n",
    "        self.optimizer = torch.optim.Adam(self.model.parameters(), lr=self.learning_rate)\n",
    "        return self\n"
   ]
  },
  {
   "cell_type": "code",
   "execution_count": 14,
   "metadata": {},
   "outputs": [
    {
     "name": "stdout",
     "output_type": "stream",
     "text": [
      "Лучшее значение скорости обучения:  {'learning_rate': 0.01}\n"
     ]
    }
   ],
   "source": [
    "input_size = 1\n",
    "hidden_size = 32\n",
    "num_layers = 2\n",
    "output_size = 1\n",
    "seq_length = 30\n",
    "\n",
    "# Создаем экземпляр модели\n",
    "model = LSTMWrapper(input_size, hidden_size, num_layers, output_size)\n",
    "\n",
    "# Задаем значения параметров для поиска\n",
    "params = {'learning_rate': [0.001, 0.01, 0.1]}\n",
    "\n",
    "# Создаем экземпляр GridSearchCV\n",
    "grid_search = GridSearchCV(estimator=model, param_grid=params, cv=5, scoring='neg_mean_squared_error', n_jobs=-1)\n",
    "\n",
    "# Обучаем модель с помощью GridSearchCV\n",
    "grid_search.fit(train_x, train_y)\n",
    "\n",
    "# Выводим лучшее значение скорости обучения\n",
    "print('Лучшее значение скорости обучения: ', grid_search.best_params_)\n"
   ]
  },
  {
   "cell_type": "code",
   "execution_count": 15,
   "metadata": {},
   "outputs": [
    {
     "name": "stdout",
     "output_type": "stream",
     "text": [
      "Лучшее значение скорости обучения:  {'learning_rate': 0.015}\n",
      "0.015\n"
     ]
    }
   ],
   "source": [
    "params = {'learning_rate': [0.01,0.011,0.013, 0.015, 0.017, 0.02,0.03]}\n",
    "\n",
    "# Создаем экземпляр GridSearchCV\n",
    "grid_search = GridSearchCV(estimator=model, param_grid=params, cv=5, scoring='neg_mean_squared_error', n_jobs=-1)\n",
    "\n",
    "# Обучаем модель с помощью GridSearchCV\n",
    "grid_search.fit(train_x, train_y)\n",
    "\n",
    "# Выводим лучшее значение скорости обучения\n",
    "print('Лучшее значение скорости обучения: ', grid_search.best_params_)\n",
    "print(grid_search.best_params_['learning_rate'])"
   ]
  },
  {
   "cell_type": "code",
   "execution_count": 16,
   "metadata": {},
   "outputs": [
    {
     "data": {
      "text/plain": [
       "0.015"
      ]
     },
     "execution_count": 16,
     "metadata": {},
     "output_type": "execute_result"
    }
   ],
   "source": [
    "res = grid_search.best_params_['learning_rate']\n",
    "res"
   ]
  },
  {
   "cell_type": "code",
   "execution_count": 17,
   "metadata": {},
   "outputs": [
    {
     "name": "stdout",
     "output_type": "stream",
     "text": [
      "Epoch: 0, loss: 0.01733\n",
      "Epoch: 10, loss: 0.00485\n",
      "Epoch: 20, loss: 0.00316\n",
      "Epoch: 30, loss: 0.00269\n",
      "Epoch: 40, loss: 0.00222\n",
      "Epoch: 50, loss: 0.00012\n",
      "Epoch: 60, loss: 0.00021\n",
      "Epoch: 70, loss: 0.00007\n",
      "Epoch: 80, loss: 0.00006\n",
      "Epoch: 90, loss: 0.00005\n",
      "Epoch: 100, loss: 0.00004\n",
      "Epoch: 150, loss: 0.00004\n",
      "Epoch: 200, loss: 0.00003\n",
      "Epoch: 250, loss: 0.00003\n",
      "Epoch: 300, loss: 0.00002\n",
      "Epoch: 350, loss: 0.00002\n",
      "Epoch: 400, loss: 0.00002\n",
      "Epoch: 450, loss: 0.00002\n",
      "Epoch: 500, loss: 0.00002\n",
      "Epoch: 550, loss: 0.00002\n",
      "Epoch: 600, loss: 0.00002\n",
      "Epoch: 650, loss: 0.00002\n"
     ]
    },
    {
     "data": {
      "image/png": "[encoded data removed]",
      "text/plain": [
       "<Figure size 432x288 with 1 Axes>"
      ]
     },
     "metadata": {
      "needs_background": "light"
     },
     "output_type": "display_data"
    },
    {
     "name": "stdout",
     "output_type": "stream",
     "text": [
      "Wall time: 1min 42s\n"
     ]
    }
   ],
   "source": [
    "%%time\n",
    "# Обучаем модель\n",
    "\n",
    "model = LSTM(input_size, hidden_size, num_layers, output_size).to(device)\n",
    "criterion = nn.MSELoss()\n",
    "optimizer = torch.optim.Adam(model.parameters(), lr=res)\n",
    "\n",
    "for epoch in range(700):\n",
    "    optimizer.zero_grad()\n",
    "    outputs = model(train_x.to(device))\n",
    "    loss = criterion(outputs, train_y.to(device))\n",
    "    loss.backward()\n",
    "    optimizer.step()\n",
    "    if epoch % 10 == 0:\n",
    "        if epoch<100: \n",
    "            print(\"Epoch: %d, loss: %1.5f\" % (epoch, loss.item()))\n",
    "        else: \n",
    "            if epoch % 50 == 0: \n",
    "                print(\"Epoch: %d, loss: %1.5f\" % (epoch, loss.item()))\n",
    "\n",
    "# Предсказываем значения на тестовой выборке\n",
    "model.eval()\n",
    "test_predict = model(test_x.to(device))\n",
    "\n",
    "# Вычисляем ошибку на тестовой выборке\n",
    "test_loss = criterion(test_predict, test_y.to(device))\n",
    "\n",
    "# Визуализируем результаты\n",
    "test_predict = test_predict.cpu().detach().numpy()\n",
    "test_y = test_y.cpu().detach().numpy()\n",
    "\n",
    "test_predict = scaler.inverse_transform(test_predict)\n",
    "test_y = scaler.inverse_transform(test_y)\n",
    "\n",
    "plt.plot(test_y, label='Истинные значения')\n",
    "plt.plot(test_predict, label='Предсказанные значения')\n",
    "plt.xlabel('День')\n",
    "plt.ylabel('Цена закрытия')\n",
    "plt.title('Прогнозирование цены закрытия криптовалюты\\nMSE на тестовой выборке: {:.4f}'.format(test_loss))\n",
    "plt.legend()\n",
    "plt.show()"
   ]
  },
  {
   "cell_type": "markdown",
   "metadata": {},
   "source": [
    "Как мы можем увидить, ошибка минимальная, а на графике предсказанные значения почти полностью дублируют истинные значения. Считаю, что модель полность справилась с поставленной задачей, так как полное повторение на нестабильном графике с элементами быстрого роста невозможно.\n",
    "Исходя из этого делаем вывод, что модель улучшения не требует, так как сильно заметного результата это не даст, хотя при этом потребует значительного количества ресурсов, а это не выгодно."
   ]
  },
  {
   "cell_type": "markdown",
   "metadata": {},
   "source": [
    "Теперь попробуем протестировать другие модели и сравнить."
   ]
  },
  {
   "cell_type": "code",
   "execution_count": 18,
   "metadata": {},
   "outputs": [],
   "source": [
    "def regr_metrics(test_x, test_y, y_pred, model):\n",
    "    print('R^2 score:', model.score(test_x.squeeze(), test_y))\n",
    "    print('mean_absolute_error', mean_absolute_error(test_y, y_pred))\n",
    "    print('median_absolute_error', median_absolute_error(test_y, y_pred))\n",
    "    mseloss = mean_squared_error(test_y, y_pred)\n",
    "    return mseloss"
   ]
  },
  {
   "cell_type": "code",
   "execution_count": 19,
   "metadata": {},
   "outputs": [
    {
     "name": "stdout",
     "output_type": "stream",
     "text": [
      "R^2 score: -1.1662650424477423\n",
      "mean_absolute_error 17051.158\n",
      "median_absolute_error 9798.138\n"
     ]
    }
   ],
   "source": [
    "#train_x, test_x train_y, test_y\n",
    "\n",
    "model = LinearRegression()\n",
    "\n",
    "# обучение модели\n",
    "\n",
    "model.fit(train_x.numpy().squeeze(), train_y.numpy())\n",
    "\n",
    "# прогнозирование цены для тестового набора\n",
    "y_pred = model.predict(test_x.squeeze())\n",
    "\n",
    "# оценка точности модели\n",
    "\n",
    "mseloss = regr_metrics(test_x, test_y, y_pred, model)"
   ]
  },
  {
   "cell_type": "code",
   "execution_count": 20,
   "metadata": {},
   "outputs": [
    {
     "data": {
      "image/png": "[encoded data removed]",
      "text/plain": [
       "<Figure size 432x288 with 1 Axes>"
      ]
     },
     "metadata": {
      "needs_background": "light"
     },
     "output_type": "display_data"
    }
   ],
   "source": [
    "y_pred = scaler.inverse_transform(y_pred)\n",
    "plt.plot(test_y, label='Истинные значения')\n",
    "plt.plot(y_pred, label='Предсказанные значения')\n",
    "plt.xlabel('День')\n",
    "plt.ylabel('Цена закрытия')\n",
    "plt.title('Прогнозирование цены закрытия криптовалюты\\nMSE на тестовой выборке: {:.4f}'.format(mseloss))\n",
    "plt.legend()\n",
    "plt.show()"
   ]
  },
  {
   "cell_type": "markdown",
   "metadata": {},
   "source": [
    "Как видим, линейная регрессия с такой задачей не справляется. Ожидаемо, так как эта модель слишком простая для таких данных и не может нормально обучиться. (синюю полоску даже не видно)"
   ]
  },
  {
   "cell_type": "code",
   "execution_count": 21,
   "metadata": {},
   "outputs": [
    {
     "name": "stderr",
     "output_type": "stream",
     "text": [
      "<ipython-input-21-dbdcf1f600f1>:2: DataConversionWarning: A column-vector y was passed when a 1d array was expected. Please change the shape of y to (n_samples,), for example using ravel().\n",
      "  regr.fit(train_x.numpy().squeeze(), train_y.numpy())\n"
     ]
    },
    {
     "name": "stdout",
     "output_type": "stream",
     "text": [
      "R^2 score: -1.166307258818382\n",
      "mean_absolute_error 17051.271174595397\n",
      "median_absolute_error 9798.175227994201\n"
     ]
    }
   ],
   "source": [
    "regr = RandomForestRegressor(max_depth=2, random_state=0)\n",
    "regr.fit(train_x.numpy().squeeze(), train_y.numpy())\n",
    "y_pred = regr.predict(test_x.squeeze())\n",
    "mseloss = regr_metrics(test_x, test_y, y_pred, regr)"
   ]
  },
  {
   "cell_type": "code",
   "execution_count": 22,
   "metadata": {},
   "outputs": [
    {
     "data": {
      "image/png": "[encoded data removed]",
      "text/plain": [
       "<Figure size 432x288 with 1 Axes>"
      ]
     },
     "metadata": {
      "needs_background": "light"
     },
     "output_type": "display_data"
    }
   ],
   "source": [
    "y_pred = scaler.inverse_transform(y_pred.reshape(-1, 1))\n",
    "plt.plot(test_y, label='Истинные значения')\n",
    "plt.plot(y_pred, label='Предсказанные значения')\n",
    "plt.xlabel('День')\n",
    "plt.ylabel('Цена закрытия')\n",
    "plt.title('Прогнозирование цены закрытия криптовалюты\\nMSE на тестовой выборке: {:.4f}'.format(mseloss))\n",
    "plt.legend()\n",
    "plt.show()"
   ]
  },
  {
   "cell_type": "markdown",
   "metadata": {},
   "source": [
    "Случайный лес показал ужасный результат, пусть и лучше чем линейная регрессия. То, что он потеряется на моменты быстрого роста было ожидаемо, но и его неудачные попытки предсказания на достаточно стабильном участке графика, показывают что для таких задач он не подходит."
   ]
  },
  {
   "cell_type": "code",
   "execution_count": 23,
   "metadata": {},
   "outputs": [
    {
     "name": "stderr",
     "output_type": "stream",
     "text": [
      "F:\\Anaconda\\lib\\site-packages\\sklearn\\ensemble\\_gb.py:570: DataConversionWarning: A column-vector y was passed when a 1d array was expected. Please change the shape of y to (n_samples, ), for example using ravel().\n",
      "  y = column_or_1d(y, warn=True)\n"
     ]
    },
    {
     "name": "stdout",
     "output_type": "stream",
     "text": [
      "R^2 score: -1.1663023977393698\n",
      "mean_absolute_error 17051.25320102326\n",
      "median_absolute_error 9798.138292510004\n"
     ]
    }
   ],
   "source": [
    "reg = GradientBoostingRegressor(random_state=0)\n",
    "reg.fit(train_x.squeeze(), train_y)\n",
    "y_pred = reg.predict(test_x.squeeze())\n",
    "reg.score(test_x.squeeze(), test_y)\n",
    "mseloss = regr_metrics(test_x, test_y, y_pred, reg)"
   ]
  },
  {
   "cell_type": "markdown",
   "metadata": {},
   "source": [
    "Как видим, метрики ужасные. При этом, у всех трёх моделей, они примерно одинаковые, хотя у градиентного бустинга ситуация немного лучше, пусть и не сильно."
   ]
  },
  {
   "cell_type": "code",
   "execution_count": 24,
   "metadata": {},
   "outputs": [
    {
     "data": {
      "image/png": "[encoded data removed]",
      "text/plain": [
       "<Figure size 432x288 with 1 Axes>"
      ]
     },
     "metadata": {
      "needs_background": "light"
     },
     "output_type": "display_data"
    }
   ],
   "source": [
    "y_pred = scaler.inverse_transform(y_pred.reshape(-1, 1))\n",
    "\n",
    "plt.plot(test_y, label='Истинные значения')\n",
    "plt.plot(y_pred, label='Предсказанные значения')\n",
    "plt.xlabel('День')\n",
    "plt.ylabel('Цена закрытия')\n",
    "plt.title('Прогнозирование цены закрытия криптовалюты\\nMSE на тестовой выборке: {:.4f}'.format(mseloss))\n",
    "plt.legend()\n",
    "plt.show()"
   ]
  },
  {
   "cell_type": "markdown",
   "metadata": {},
   "source": [
    "Как видим, градиентный бустинг неплохо справляется со стабильными временными рядами, но как только дело доходит до серьёзных колебаний и стремительного роста - начинает теряться и просто ровно идёт. Тоже не подходит для решения таких задач."
   ]
  },
  {
   "cell_type": "code",
   "execution_count": 29,
   "metadata": {},
   "outputs": [
    {
     "name": "stderr",
     "output_type": "stream",
     "text": [
      "F:\\Anaconda\\lib\\site-packages\\sklearn\\ensemble\\_gb.py:570: DataConversionWarning: A column-vector y was passed when a 1d array was expected. Please change the shape of y to (n_samples, ), for example using ravel().\n",
      "  y = column_or_1d(y, warn=True)\n"
     ]
    },
    {
     "name": "stdout",
     "output_type": "stream",
     "text": [
      "R^2 score: -1.16630400165496\n",
      "mean_absolute_error 17051.258630708307\n",
      "median_absolute_error 9798.139789604618\n"
     ]
    }
   ],
   "source": [
    "reg = GradientBoostingRegressor(random_state=0, n_estimators=220,\n",
    "          max_depth=16,\n",
    "          criterion='squared_error',\n",
    "          learning_rate=0.03,\n",
    "          min_samples_leaf=16,\n",
    "          min_samples_split=16)\n",
    "reg.fit(train_x.squeeze(), train_y)\n",
    "y_pred = reg.predict(test_x.squeeze())\n",
    "reg.score(test_x.squeeze(), test_y)\n",
    "mseloss = regr_metrics(test_x, test_y, y_pred, reg)"
   ]
  },
  {
   "cell_type": "code",
   "execution_count": 30,
   "metadata": {},
   "outputs": [
    {
     "data": {
      "image/png": "[encoded data removed]",
      "text/plain": [
       "<Figure size 432x288 with 1 Axes>"
      ]
     },
     "metadata": {
      "needs_background": "light"
     },
     "output_type": "display_data"
    }
   ],
   "source": [
    "y_pred = scaler.inverse_transform(y_pred.reshape(-1, 1))\n",
    "\n",
    "plt.plot(test_y, label='Истинные значения')\n",
    "plt.plot(y_pred, label='Предсказанные значения')\n",
    "plt.xlabel('День')\n",
    "plt.ylabel('Цена закрытия')\n",
    "plt.title('Прогнозирование цены закрытия криптовалюты\\nMSE на тестовой выборке: {:.4f}'.format(mseloss))\n",
    "plt.legend()\n",
    "plt.show()"
   ]
  },
  {
   "cell_type": "markdown",
   "metadata": {},
   "source": [
    "Как видим, улучшить градиентный бустинг тоже можно. Получилось лучше залезть на пик, при этом стабильную часть графика он прошел точнее. И всё же это не уровень нейросети."
   ]
  },
  {
   "cell_type": "code",
   "execution_count": null,
   "metadata": {},
   "outputs": [],
   "source": []
  },
  {
   "cell_type": "markdown",
   "metadata": {},
   "source": [
    "Таким образом, LSTM нейронная сеть оказалась наиболее эффективным вариантом из всех. Да, она не в состоянии идентично повторять настоящие значения на пиковых моментах, но чем стабильнее график, тем меньше отклонений показывает нейронная сеть. LSTM отлично подходит для решения задач связанных с обработкой временных рядов."
   ]
  }
 ],
 "metadata": {
  "kernelspec": {
   "display_name": "Python 3",
   "language": "python",
   "name": "python3"
  },
  "language_info": {
   "codemirror_mode": {
    "name": "ipython",
    "version": 3
   },
   "file_extension": ".py",
   "mimetype": "text/x-python",
   "name": "python",
   "nbconvert_exporter": "python",
   "pygments_lexer": "ipython3",
   "version": "3.8.3"
  }
 },
 "nbformat": 4,
 "nbformat_minor": 4
}
